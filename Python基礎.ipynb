{
 "cells": [
  {
   "cell_type": "markdown",
   "metadata": {},
   "source": [
    "## jupyterNotebook"
   ]
  },
  {
   "cell_type": "markdown",
   "metadata": {},
   "source": [
    "コメントなどを残すことができる「**テキストセル**」と\n",
    "\n",
    "Pythonのコードを書き実行することができる「**コードセル**」の２種類があります。\n",
    "\n",
    "セルは ▶ のマークをクリックするか、**Shift + Enter**で実行できます。"
   ]
  },
  {
   "cell_type": "code",
   "execution_count": 1,
   "metadata": {},
   "outputs": [
    {
     "data": {
      "text/plain": [
       "2"
      ]
     },
     "execution_count": 1,
     "metadata": {},
     "output_type": "execute_result"
    }
   ],
   "source": [
    "# コードセル\n",
    "1 + 1"
   ]
  },
  {
   "cell_type": "markdown",
   "metadata": {},
   "source": [
    "「**コードセル**」で、文字を入力したい場合は、先頭に「#」をつけてください。\n",
    "\n",
    "一括で変更したい場合は対象箇所を選択し「Control＋/」を入力してください。（Macの場合は、Command+/）"
   ]
  },
  {
   "cell_type": "markdown",
   "metadata": {},
   "source": [
    "## 変数"
   ]
  },
  {
   "cell_type": "code",
   "execution_count": 2,
   "metadata": {},
   "outputs": [],
   "source": [
    "# 数字を格納\n",
    "one = 1"
   ]
  },
  {
   "cell_type": "code",
   "execution_count": 34,
   "metadata": {},
   "outputs": [
    {
     "name": "stdout",
     "output_type": "stream",
     "text": [
      "1\n"
     ]
    }
   ],
   "source": [
    "# 中身を確認\n",
    "print(one)"
   ]
  },
  {
   "cell_type": "code",
   "execution_count": 4,
   "metadata": {},
   "outputs": [],
   "source": [
    "# 文字を格納\n",
    "osaka = '大阪'"
   ]
  },
  {
   "cell_type": "markdown",
   "metadata": {},
   "source": [
    "（補足）  \n",
    "数学と違い`=` は代入の意味になります。  \n",
    "同じ変数に別の値を格納すると値が更新されます。"
   ]
  },
  {
   "cell_type": "code",
   "execution_count": null,
   "metadata": {},
   "outputs": [
    {
     "data": {
      "text/plain": [
       "'東京'"
      ]
     },
     "execution_count": 5,
     "metadata": {},
     "output_type": "execute_result"
    }
   ],
   "source": [
    "osaka = '東京'\n",
    "print(osaka)"
   ]
  },
  {
   "cell_type": "markdown",
   "metadata": {},
   "source": [
    "### 計算"
   ]
  },
  {
   "cell_type": "code",
   "execution_count": 6,
   "metadata": {},
   "outputs": [
    {
     "data": {
      "text/plain": [
       "2.5"
      ]
     },
     "execution_count": 6,
     "metadata": {},
     "output_type": "execute_result"
    }
   ],
   "source": [
    "# 変数a、bを定義\n",
    "a = 1\n",
    "b = 1.5\n",
    "\n",
    "# 足し算\n",
    "a + b\n",
    "\n",
    "# 補足\n",
    "# 変数には、そのデータの種類を表す「データ型」というものが設定されています。\n",
    "# この「データ型」の不一致によってエラーが発生することもよくありますので、注意する必要があります。\n",
    "# （たとえば、数値と文字列をそのまま足そうとするとエラーになります）\n",
    "\n",
    "# なお、Pythonは「動的型付け言語」といって、自動的にデータ型が設定される言語です。\n",
    "# 言語によっては、あらかじめ宣言をするケースもあります。\n",
    "\n",
    "# 本ノートブックの付録に、基本的なデータ型を掲載しています。ぜひ調べてみてください。"
   ]
  },
  {
   "cell_type": "code",
   "execution_count": 7,
   "metadata": {},
   "outputs": [
    {
     "data": {
      "text/plain": [
       "'キカガク太郎'"
      ]
     },
     "execution_count": 7,
     "metadata": {},
     "output_type": "execute_result"
    }
   ],
   "source": [
    "# 文字列は、シングルクオート（'）またはダブルクオート（\"）で囲みます\n",
    "name1 = 'キカガク'\n",
    "name2 = '太郎'\n",
    "\n",
    "# + を使うと、文字列をつなげることができます\n",
    "name1 + name2"
   ]
  },
  {
   "cell_type": "markdown",
   "metadata": {
    "id": "B_BX6l6sFIo-"
   },
   "source": [
    "## プログラミング基礎　if文 と for文"
   ]
  },
  {
   "cell_type": "markdown",
   "metadata": {
    "id": "ye9_KDn2Emr0"
   },
   "source": [
    "プログラミングの基本\n",
    "- 順次処理（じゅんじしょり）\n",
    "- 分岐処理（ぶんきしょり）\n",
    "- 反復処理（はんぷくしょり）"
   ]
  },
  {
   "cell_type": "markdown",
   "metadata": {
    "id": "XdZ7GpTJFU0l"
   },
   "source": [
    "### if文\n",
    "\n",
    "if文は、条件分岐を実現するための基本構文のひとつです。  \n",
    "条件が成立した場合にコードを実行し、不成立の場合には別のコードを実行します。<br>\n",
    "条件文は比較演算子を用いて条件を作成します。\n",
    "\n",
    "\n",
    "*2分岐*\n",
    "```Python\n",
    "if 条件式:\n",
    "  条件式が成立したときの処理\n",
    "else:\n",
    "  条件式が不成立のときの処理  \n",
    "```"
   ]
  },
  {
   "cell_type": "code",
   "execution_count": null,
   "metadata": {
    "colab": {
     "base_uri": "https://localhost:8080/"
    },
    "executionInfo": {
     "elapsed": 46,
     "status": "ok",
     "timestamp": 1747132802543,
     "user": {
      "displayName": "山田哲也",
      "userId": "17534143901718261130"
     },
     "user_tz": -540
    },
    "id": "ZQz-BJeWEwCY",
    "outputId": "2ec1c7ef-fd97-4f21-c12d-c16533d051bf"
   },
   "outputs": [
    {
     "name": "stdout",
     "output_type": "stream",
     "text": [
      "aは5です\n"
     ]
    }
   ],
   "source": [
    "# 条件式が満たされるとif文の中が実行される\n",
    "a = 5\n",
    "\n",
    "if a == 5:\n",
    "  print(\"aは5です\")"
   ]
  },
  {
   "cell_type": "code",
   "execution_count": null,
   "metadata": {
    "colab": {
     "base_uri": "https://localhost:8080/"
    },
    "executionInfo": {
     "elapsed": 44,
     "status": "ok",
     "timestamp": 1747131968157,
     "user": {
      "displayName": "山田哲也",
      "userId": "17534143901718261130"
     },
     "user_tz": -540
    },
    "id": "DA0QuxEUHokv",
    "outputId": "c0ae19d4-b466-4a40-c9d3-9cc7520f8dc0"
   },
   "outputs": [
    {
     "data": {
      "text/plain": [
       "True"
      ]
     },
     "execution_count": 10,
     "metadata": {},
     "output_type": "execute_result"
    }
   ],
   "source": [
    "a == 5\n",
    "\n",
    "# 「==」 を、比較演算子と呼びます。\n",
    "# Pythonでよく使う比較演算子を最後尾に付録として添付しています。"
   ]
  },
  {
   "cell_type": "code",
   "execution_count": 35,
   "metadata": {
    "colab": {
     "base_uri": "https://localhost:8080/"
    },
    "executionInfo": {
     "elapsed": 41,
     "status": "ok",
     "timestamp": 1747131595055,
     "user": {
      "displayName": "山田哲也",
      "userId": "17534143901718261130"
     },
     "user_tz": -540
    },
    "id": "PQFsu1wZHt0_",
    "outputId": "c498b227-5714-4709-ecca-04d3545cd7ae"
   },
   "outputs": [
    {
     "name": "stdout",
     "output_type": "stream",
     "text": [
      "5\n"
     ]
    }
   ],
   "source": [
    "a = 5\n",
    "print(a)\n",
    "\n",
    "# 代入との違いを整理しておきましょう。"
   ]
  },
  {
   "cell_type": "code",
   "execution_count": 11,
   "metadata": {
    "id": "GS7c2WNOHW9G"
   },
   "outputs": [],
   "source": [
    "# 条件式が満たされていない場合はif文の中身は実行されない\n",
    "a = 1\n",
    "if a == 5:\n",
    "  print(\"aは5です\")"
   ]
  },
  {
   "cell_type": "code",
   "execution_count": 12,
   "metadata": {
    "colab": {
     "base_uri": "https://localhost:8080/"
    },
    "executionInfo": {
     "elapsed": 9,
     "status": "ok",
     "timestamp": 1747130955545,
     "user": {
      "displayName": "山田哲也",
      "userId": "17534143901718261130"
     },
     "user_tz": -540
    },
    "id": "Q5d-KLRaHW_i",
    "outputId": "d8c1c1c1-12ce-4877-cbee-1ccf0be10790"
   },
   "outputs": [
    {
     "name": "stdout",
     "output_type": "stream",
     "text": [
      "aは5ではありません\n"
     ]
    }
   ],
   "source": [
    "# 条件式が満たされていない場合はif文の中身は実行さずにelse文の中身が実行される\n",
    "a = 1\n",
    "if a == 5:\n",
    "  print(\"aは5です\")\n",
    "else:\n",
    "  print(\"aは5ではありません\")"
   ]
  },
  {
   "cell_type": "code",
   "execution_count": 13,
   "metadata": {
    "colab": {
     "base_uri": "https://localhost:8080/"
    },
    "executionInfo": {
     "elapsed": 3,
     "status": "ok",
     "timestamp": 1747130955552,
     "user": {
      "displayName": "山田哲也",
      "userId": "17534143901718261130"
     },
     "user_tz": -540
    },
    "id": "0XjIKyJBHXCC",
    "outputId": "456de92b-97db-4c09-b0f2-ffcfd6c923d1"
   },
   "outputs": [
    {
     "name": "stdout",
     "output_type": "stream",
     "text": [
      "あなたは B クラスです。\n"
     ]
    }
   ],
   "source": [
    "# ３分岐のif文\n",
    "\n",
    "score = 55\n",
    "\n",
    "# 条件分岐の構文\n",
    "if score >= 80:\n",
    "    print('あなたは A クラスです')\n",
    "elif score < 80 and score >= 50:\n",
    "    print('あなたは B クラスです。')\n",
    "else:\n",
    "    print('あなたは C クラスです。')"
   ]
  },
  {
   "cell_type": "markdown",
   "metadata": {
    "id": "u0rzDgi_GGBq"
   },
   "source": [
    "### for文\n",
    "for文は繰り返し処理を行う基本構文の一つです。  \n",
    "同じ処理を何回も実行できます。\n",
    "\n",
    "*リスト内の全要素を参照する*\n",
    "```Python\n",
    "for 変数 in リスト;\n",
    "  繰り返し処理\n",
    "```"
   ]
  },
  {
   "cell_type": "code",
   "execution_count": null,
   "metadata": {
    "colab": {
     "base_uri": "https://localhost:8080/"
    },
    "executionInfo": {
     "elapsed": 44,
     "status": "ok",
     "timestamp": 1747131411272,
     "user": {
      "displayName": "山田哲也",
      "userId": "17534143901718261130"
     },
     "user_tz": -540
    },
    "id": "ZVfM6Q9yGH8q",
    "outputId": "ea9f8beb-821d-4c6c-bb0c-ac649e49b2ef"
   },
   "outputs": [
    {
     "name": "stdout",
     "output_type": "stream",
     "text": [
      "太郎さん\n",
      "花子さん\n",
      "一郎さん\n"
     ]
    }
   ],
   "source": [
    "# リストを定義する\n",
    "names = ['太郎', '花子', '一郎']\n",
    "\n",
    "# for 文\n",
    "for name in names:\n",
    "    print(name +'さん')\n",
    "\n",
    "# リストとは、複数の値をまとめて扱えるデータ型の一つです。角カッコで囲って表現します。\n",
    "# for文は、イテラブル（繰り返し可能）なオブジェクトの要素（ここではリストのこと）を\n",
    "# 1つずつ取り出して、指定した処理（ここでは print() のこと）を繰り返し実行します。"
   ]
  },
  {
   "cell_type": "markdown",
   "metadata": {},
   "source": [
    "## 補足"
   ]
  },
  {
   "cell_type": "markdown",
   "metadata": {
    "id": "w6TnOGpOINO6"
   },
   "source": [
    "### range() について\n",
    "\n",
    "for文は`range()`を使うと実行回数を指定したり、100~200までのように数値範囲を指定して実行することができます。<br>\n",
    "for文に適応する前に`range()`の挙動を見てみます。\n",
    "\n",
    "```Python\n",
    "range(stop)           # 0から stop-1 までの範囲\n",
    "range(start, stop)    # start から stop-1 までの範囲\n",
    "range(start, stop, step)  # start から stop-1 まで step 間隔で\n",
    "```"
   ]
  },
  {
   "cell_type": "code",
   "execution_count": 17,
   "metadata": {
    "colab": {
     "base_uri": "https://localhost:8080/"
    },
    "executionInfo": {
     "elapsed": 4,
     "status": "ok",
     "timestamp": 1747131338821,
     "user": {
      "displayName": "山田哲也",
      "userId": "17534143901718261130"
     },
     "user_tz": -540
    },
    "id": "-E1-8cMUIQbo",
    "outputId": "7c81b986-38d0-4e63-9f5e-46aa4dfc891a"
   },
   "outputs": [
    {
     "data": {
      "text/plain": [
       "range(0, 4)"
      ]
     },
     "execution_count": 17,
     "metadata": {},
     "output_type": "execute_result"
    }
   ],
   "source": [
    "# 0~3までの連続数を作成\n",
    "a = range(4)\n",
    "a"
   ]
  },
  {
   "cell_type": "code",
   "execution_count": 18,
   "metadata": {
    "colab": {
     "base_uri": "https://localhost:8080/"
    },
    "executionInfo": {
     "elapsed": 6,
     "status": "ok",
     "timestamp": 1747131340684,
     "user": {
      "displayName": "山田哲也",
      "userId": "17534143901718261130"
     },
     "user_tz": -540
    },
    "id": "JzDF4r9DI__A",
    "outputId": "3c8051bc-5d63-4b2f-c902-ebfb4b4910e8"
   },
   "outputs": [
    {
     "data": {
      "text/plain": [
       "[0, 1, 2, 3]"
      ]
     },
     "execution_count": 18,
     "metadata": {},
     "output_type": "execute_result"
    }
   ],
   "source": [
    "list(a)"
   ]
  },
  {
   "cell_type": "code",
   "execution_count": 19,
   "metadata": {
    "colab": {
     "base_uri": "https://localhost:8080/"
    },
    "executionInfo": {
     "elapsed": 19,
     "status": "ok",
     "timestamp": 1747131358524,
     "user": {
      "displayName": "山田哲也",
      "userId": "17534143901718261130"
     },
     "user_tz": -540
    },
    "id": "LcdWf9rXI9QI",
    "outputId": "946c01b0-3a26-490c-8036-cd11cf3e14dd"
   },
   "outputs": [
    {
     "data": {
      "text/plain": [
       "range(0, 4)"
      ]
     },
     "execution_count": 19,
     "metadata": {},
     "output_type": "execute_result"
    }
   ],
   "source": [
    "# 0~3までの連続数を作成(同じこと)\n",
    "a = range(0, 4, 1)\n",
    "a"
   ]
  },
  {
   "cell_type": "code",
   "execution_count": 20,
   "metadata": {
    "colab": {
     "base_uri": "https://localhost:8080/"
    },
    "executionInfo": {
     "elapsed": 10,
     "status": "ok",
     "timestamp": 1747131360483,
     "user": {
      "displayName": "山田哲也",
      "userId": "17534143901718261130"
     },
     "user_tz": -540
    },
    "id": "Z3HVWhuFJHpc",
    "outputId": "f4cd4fc0-faad-45a6-96fe-27bc1013dfea"
   },
   "outputs": [
    {
     "data": {
      "text/plain": [
       "[0, 1, 2, 3]"
      ]
     },
     "execution_count": 20,
     "metadata": {},
     "output_type": "execute_result"
    }
   ],
   "source": [
    "list(a)"
   ]
  },
  {
   "cell_type": "code",
   "execution_count": 21,
   "metadata": {
    "id": "ZzZw_JjdJUdM"
   },
   "outputs": [
    {
     "name": "stdout",
     "output_type": "stream",
     "text": [
      "0\n",
      "1\n",
      "2\n",
      "3\n",
      "4\n"
     ]
    }
   ],
   "source": [
    "# 0から4までの数値を生成\n",
    "for i in range(5):\n",
    "    print(i)"
   ]
  },
  {
   "cell_type": "markdown",
   "metadata": {
    "id": "PKBzI49nOiUe"
   },
   "source": [
    "### リスト内包表記"
   ]
  },
  {
   "cell_type": "code",
   "execution_count": 22,
   "metadata": {
    "id": "RIkmJ9jYOcgc"
   },
   "outputs": [
    {
     "data": {
      "text/plain": [
       "[2, 4, 6, 8, 10]"
      ]
     },
     "execution_count": 22,
     "metadata": {},
     "output_type": "execute_result"
    }
   ],
   "source": [
    "# for文を使った単純な書き方\n",
    "data = [1, 2, 3, 4, 5]\n",
    "data2 = []\n",
    "for i in data:\n",
    "    data2.append(i*2)\n",
    "data2"
   ]
  },
  {
   "cell_type": "code",
   "execution_count": 23,
   "metadata": {
    "id": "qt8wsp8lOh3G"
   },
   "outputs": [
    {
     "data": {
      "text/plain": [
       "[2, 4, 6, 8, 10]"
      ]
     },
     "execution_count": 23,
     "metadata": {},
     "output_type": "execute_result"
    }
   ],
   "source": [
    "# リスト内包表記\n",
    "data = [1, 2, 3, 4, 5]\n",
    "data2 = [i*2 for i in data]\n",
    "data2"
   ]
  },
  {
   "cell_type": "markdown",
   "metadata": {
    "id": "MuRaHH86JhbB"
   },
   "source": [
    "### 繰り返し処理の補足：while文\n",
    "\n",
    "while文は条件式が真（True）である限り処理を繰り返し実行するための構文"
   ]
  },
  {
   "cell_type": "code",
   "execution_count": 24,
   "metadata": {
    "colab": {
     "base_uri": "https://localhost:8080/"
    },
    "executionInfo": {
     "elapsed": 12,
     "status": "ok",
     "timestamp": 1747131472868,
     "user": {
      "displayName": "山田哲也",
      "userId": "17534143901718261130"
     },
     "user_tz": -540
    },
    "id": "zZG-iMBsJgZQ",
    "outputId": "1727860c-8f0e-4d47-a0c7-bc663bba1a95"
   },
   "outputs": [
    {
     "name": "stdout",
     "output_type": "stream",
     "text": [
      "0\n",
      "1\n",
      "2\n",
      "3\n",
      "4\n"
     ]
    }
   ],
   "source": [
    "count = 0\n",
    "while count < 5:\n",
    "    print(count)\n",
    "    count += 1  # カウントを増やす"
   ]
  },
  {
   "cell_type": "markdown",
   "metadata": {},
   "source": [
    "## 関数\n",
    "一連の処理をまとめたプログラムのブロックのこと。\n",
    "\n",
    "何度も使用する処理を一箇所にまとめて、後から他のプログラムでも再利用できるようにしておくこともできます。\n",
    "\n",
    "`print()`や`type()`などPythonにもともと用意されている関数を組み込み関数や組み込みライブラリと呼びます。<br>\n",
    "\n",
    "関数数はオリジナルのものも作成できます。\n",
    "```Python\n",
    "def 関数名(引数1, 引数2, ...):\n",
    "    # 処理内容\n",
    "    return 戻り値  # 省略可能"
   ]
  },
  {
   "cell_type": "code",
   "execution_count": 25,
   "metadata": {},
   "outputs": [],
   "source": [
    "# 最もシンプルな関数\n",
    "\n",
    "def say_hello():\n",
    "  print('こんにちは。私はキカガクです。')\n",
    "\n",
    "# ポイント\n",
    "# ・ここは関数の定義をしているだけ。（実行はしていない）"
   ]
  },
  {
   "cell_type": "code",
   "execution_count": 26,
   "metadata": {},
   "outputs": [
    {
     "name": "stdout",
     "output_type": "stream",
     "text": [
      "こんにちは。私はキカガクです。\n"
     ]
    }
   ],
   "source": [
    "# 関数の実行\n",
    "say_hello()\n",
    "\n",
    "# ポイント\n",
    "# ・ここで実行をしている\n",
    "# ・say_helloが関数名。関数名は自分で変えることができる。"
   ]
  },
  {
   "cell_type": "code",
   "execution_count": 27,
   "metadata": {},
   "outputs": [
    {
     "name": "stdout",
     "output_type": "stream",
     "text": [
      "こんにちは！キカガクです。\n",
      "こんにちは！山田です。\n"
     ]
    }
   ],
   "source": [
    "# 引数のデフォルト値を設定\n",
    "def say_hello(greet='こんにちは！', name='キカガク'):\n",
    "  print(greet + name + 'です。')\n",
    "\n",
    "say_hello()            # 何も与えないでもいいし\n",
    "say_hello(name='山田') # 何かを与えてもいい"
   ]
  },
  {
   "cell_type": "code",
   "execution_count": 28,
   "metadata": {},
   "outputs": [
    {
     "name": "stdout",
     "output_type": "stream",
     "text": [
      "3\n"
     ]
    }
   ],
   "source": [
    "# 返り値を用意する\n",
    "def calc(a, b):\n",
    "  return a+b\n",
    "\n",
    "# 関数を実行。（復習：以下は一緒の意味だった）\n",
    "result = calc(a=1, b=2)\n",
    "result = calc(1, 2)\n",
    "\n",
    "print(result)\n",
    "\n",
    "# ・ポイント\n",
    "# 返り値を用意することで、関数は汎用的なプログラムになる。"
   ]
  },
  {
   "cell_type": "code",
   "execution_count": 29,
   "metadata": {},
   "outputs": [
    {
     "name": "stdout",
     "output_type": "stream",
     "text": [
      "太郎さん\n",
      "花子さん\n",
      "一郎さん\n"
     ]
    }
   ],
   "source": [
    "# 課題：前回やった以下のコードを関数化してみましょう！\n",
    "\n",
    "# リストを定義する\n",
    "names = ['太郎', '花子', '一郎']\n",
    "\n",
    "# for 文\n",
    "for name in names:\n",
    "    print(name +'さん')"
   ]
  },
  {
   "cell_type": "code",
   "execution_count": 30,
   "metadata": {},
   "outputs": [],
   "source": [
    "# ここに書いてください！\n",
    "\n",
    "\n",
    "\n",
    "\n",
    "\n",
    "\n",
    "\n",
    "# 大まかな手順\n",
    "# 1.定義（def）を書く。\n",
    "# 2.インデントを設定\n",
    "# 3.戻り値を設定\n",
    "\n",
    "# 関数化のポイント\n",
    "# ・関数内へ、外部から与えたいデータはなに？（仮引数へ）\n",
    "# ・戻り値はなに？（returnへ）"
   ]
  },
  {
   "cell_type": "code",
   "execution_count": 31,
   "metadata": {},
   "outputs": [
    {
     "name": "stdout",
     "output_type": "stream",
     "text": [
      "太郎さん\n",
      "花子さん\n",
      "一郎さん\n"
     ]
    }
   ],
   "source": [
    "# 完成例1\n",
    "\n",
    "def greet_names(name_list):\n",
    "    for name in name_list:\n",
    "        print(name +'さん')\n",
    "\n",
    "# 実行例\n",
    "names = ['太郎', '花子', '一郎']\n",
    "greet_names(names)"
   ]
  },
  {
   "cell_type": "code",
   "execution_count": null,
   "metadata": {},
   "outputs": [
    {
     "data": {
      "text/plain": [
       "['太郎さん', '花子さん', '一郎さん']"
      ]
     },
     "execution_count": 16,
     "metadata": {},
     "output_type": "execute_result"
    }
   ],
   "source": [
    "# 完成例2\n",
    "\n",
    "def greet_names(name_list):\n",
    "    result = []  # 結果をためるリスト\n",
    "    for name in name_list:\n",
    "        result.append(name + 'さん')  # 「〜さん」を追加\n",
    "    return result  # 最後にまとめて返す\n",
    "\n",
    "# 実行例\n",
    "names = ['太郎', '花子', '一郎']\n",
    "greetings = greet_names(names)\n",
    "print(greetings)"
   ]
  },
  {
   "cell_type": "markdown",
   "metadata": {
    "id": "QCoy4CFQLXCi"
   },
   "source": [
    "# 付録1：コーディングの際に使用するもの"
   ]
  },
  {
   "cell_type": "markdown",
   "metadata": {},
   "source": [
    "### 代表的なデータ型\n",
    "データ型（型と呼ぶことも多い）とはデータの種類を意味します。  \n",
    "「あいうえお」や「abcde」は文字列型、「1」「1.5」は数値型と呼ばれる。\n",
    "| カテゴリ | データ型 | 説明 | 例 |\n",
    "|---------|---------|------|-----|\n",
    "| **数値型** | int（整数型） | 整数の値 | `x = 10`, `y = -5` |\n",
    "|  | float（浮動小数点型） | 小数点を含む数値 | `x = 3.14`, `y = 0.5` |\n",
    "| **文字列型** | str（文字列型） | テキストデータ | `name = \"Python\"`, `text = '123'` |\n",
    "| **論理型** | bool（ブール型） | 真偽値（TrueまたはFalse） | `is_valid = True`, `done = False` |\n",
    "| **コレクション型** | list（リスト型） | 複数の値を格納する配列 | `numbers = [1, 2, 3]`, `names = [\"Alice\", \"Bob\"]` |\n",
    "|  | tuple（タプル型） | 変更できないリスト | `coordinates = (10, 20)`, `rgb = (255, 0, 0)` |\n",
    "|  | dict（辞書型） | キーと値のペア | `person = {\"name\": \"Alice\", \"age\": 25}` |\n"
   ]
  },
  {
   "cell_type": "markdown",
   "metadata": {},
   "source": [
    "### 算術演算子\n",
    "算術演算子（代数演算子）は数学的な計算を行うための記号です。プログラミングでは、四則演算（足し算、引き算、掛け算、割り算）やその他の数学的な演算を表現するために使用します。\n",
    "| 演算子 | 名前 | 説明 | 例 | 結果 |\n",
    "|-------|------|------|-----|------|\n",
    "| `+` | 加算 | 2つの値を足す | `5 + 3` | `8` |\n",
    "| `-` | 減算 | 左の値から右の値を引く | `10 - 4` | `6` |\n",
    "| `*` | 乗算 | 2つの値を掛け合わせる | `3 * 7` | `21` |\n",
    "| `/` | 除算 | 左の値を右の値で割る | `20 / 4` | `5.0` |\n",
    "| `%` | 剰余 | 左の値を右の値で割った余り | `17 % 5` | `2` |\n",
    "| `//` | 床除算 | 除算の結果の整数部分（切り捨て） | `20 // 6` | `3` |\n",
    "| `**` | べき乗 | 左の値を右の値でべき乗 | `2 ** 3` | `8` |\n"
   ]
  },
  {
   "cell_type": "markdown",
   "metadata": {
    "id": "DVQ-l8NnKTfo"
   },
   "source": [
    "### 比較演算子\n",
    "論理型（Boolean型）は、`True`（真）または`False`（偽）の2つの値のみを持つデータ型です。論理型は条件の真偽を表現し、条件分岐や繰り返し処理の制御に使用されます。比較演算子をセットでよく用いられます。\n",
    "| 比較演算子 | 説明                           | 例                           | 結果                       |\n",
    "|------------|--------------------------------|------------------------------|----------------------------|\n",
    "| `==`       | 等しい                         | `a == b`                     | `a` と `b` が等しい場合に `True` |\n",
    "| `!=`       | 等しくない                     | `a != b`                     | `a` と `b` が等しくない場合に `True` |\n",
    "| `>`        | より大きい                     | `a > b`                      | `a` が `b` より大きい場合に `True` |\n",
    "| `<`        | より小さい                     | `a < b`                      | `a` が `b` より小さい場合に `True` |\n",
    "| `>=`       | 以上                           | `a >= b`                     | `a` が `b` 以上の場合に `True` |\n",
    "| `<=`       | 以下                           | `a <= b`                     | `a` が `b` 以下の場合に `True` |\n"
   ]
  },
  {
   "cell_type": "markdown",
   "metadata": {
    "id": "wGfXQ9rBNak2"
   },
   "source": [
    "### 代入演算子（変数に値を格納するための演算子）\n",
    "代入演算子とは、変数に値を格納するための演算子です。Pythonでは、変数に値を代入したり、既存の値を計算して更新したりする際に使用します。\n",
    "| 演算子 | 名前 | 説明 | 例 | 結果 |\n",
    "|-------|------|------|-----|------|\n",
    "| `=` | 代入 | 右辺の値を左辺の変数に代入する | `x = 5` | `x = 5` |\n",
    "| `+=` | 加算代入 | 左辺と右辺を足した結果を左辺に代入 | `x += 3` | `x = x + 3` |\n",
    "| `-=` | 減算代入 | 左辺から右辺を引いた結果を左辺に代入 | `x -= 2` | `x = x - 2` |\n",
    "| `*=` | 乗算代入 | 左辺と右辺を掛けた結果を左辺に代入 | `x *= 4` | `x = x * 4` |\n",
    "| `/=` | 除算代入 | 左辺を右辺で割った結果を左辺に代入 | `x /= 2` | `x = x / 2` |\n",
    "| `%=` | 剰余代入 | 左辺を右辺で割った余りを左辺に代入 | `x %= 3` | `x = x % 3` |\n",
    "| `//=` | 床除算代入 | 左辺を右辺で割った商（小数点以下切捨）を左辺に代入 | `x //= 2` | `x = x // 2` |\n",
    "| `**=` | べき乗代入 | 左辺を右辺でべき乗した結果を左辺に代入 | `x **= 2` | `x = x ** 2` |\n"
   ]
  },
  {
   "cell_type": "markdown",
   "metadata": {},
   "source": [
    "# 付録2：文字を表現する場合に使用するもの"
   ]
  },
  {
   "cell_type": "markdown",
   "metadata": {},
   "source": [
    "### マークダウン早見表\n",
    "テキストセルでは、メモを残すことができます。  \n",
    "また、マークダウン記法を使うことで体裁を整えることもできます。\n",
    "| 書きたい内容         | Markdownの書き方例                 | 表示結果の例                     |\n",
    "|----------------------|------------------------------------|----------------------------------|\n",
    "| 見出し（大）         | `# 見出し1`                        | # 見出し1                        |\n",
    "| 見出し（中）         | `## 見出し2`                       | ## 見出し2                       |\n",
    "| 見出し（小）         | `### 見出し3`                      | ### 見出し3                      |\n",
    "| 太字                 | `**太字**`                         | **太字**                         |\n",
    "| 斜体                 | `*斜体*`                           | *斜体*                           |\n",
    "| 番号付きリスト       | `1. 項目1`<br>`2. 項目2`            | 1. 項目1<br>2. 項目2             |\n",
    "| 箇条書きリスト       | `- 項目A`<br>`- 項目B`              | - 項目A <br> - 項目B               |\n",
    "| コード（インライン） | `` `print(\"Hello\")` ``             | `print(\"Hello\")`                 |\n",
    "| コードブロック       | \\`\\`\\`python<br>print(\"Hello\")<br>\\`\\`\\` | ```python<br>print(\"Hello\")<br>``` |\n",
    "| 引用                 | `> これは引用です`                | > これは引用です                |\n",
    "| 水平線               | `---` または `***`                 | ―――――                           |\n",
    "\n",
    "\n",
    "---\n",
    "\n",
    "※表上ではうまく表示されないものもあります。"
   ]
  },
  {
   "cell_type": "markdown",
   "metadata": {},
   "source": [
    "### エスケープシーケンス\n",
    "`print()`を使うと文字列や、変数を表示することができます。`print()`で文字列を使う際にエスケープシーケンスとセットで使うことがあります。<br>\n",
    "エスケープシーケンスは文字列内で特定の文字や動作を表現するために使われる一連の文字です。\n",
    "通常は文字列の中に直接書けないような文字や、特別な動作を文字列に含めることができます。\n",
    "\n",
    "| エスケープシーケンス | 説明                           |\n",
    "|----------------------|--------------------------------|\n",
    "| `\\\\`                 | バックスラッシュ（\\）を表現する  |\n",
    "| `\\'`                 | シングルクォート（'）を表現する  |\n",
    "| `\\\"`                 | ダブルクォート（\"）を表現する    |\n",
    "| `\\n`                 | 改行（ニューライン）              |\n",
    "| `\\t`                 | タブ                           |\n",
    "| `\\r`                 | キャリッジリターン              |\n",
    "| `\\b`                 | バックスペース|"
   ]
  }
 ],
 "metadata": {
  "colab": {
   "provenance": []
  },
  "kernelspec": {
   "display_name": "Python 3",
   "name": "python3"
  },
  "language_info": {
   "codemirror_mode": {
    "name": "ipython",
    "version": 3
   },
   "file_extension": ".py",
   "mimetype": "text/x-python",
   "name": "python",
   "nbconvert_exporter": "python",
   "pygments_lexer": "ipython3",
   "version": "3.10.18"
  }
 },
 "nbformat": 4,
 "nbformat_minor": 0
}
