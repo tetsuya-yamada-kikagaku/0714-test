{
 "cells": [
  {
   "cell_type": "code",
   "execution_count": 8,
   "metadata": {},
   "outputs": [],
   "source": [
    "# 必要なライブラリをインポート \n",
    "\n",
    "import numpy as np\n",
    "import pandas as pd\n",
    "import matplotlib.pyplot as plt\n",
    "import seaborn as sns"
   ]
  },
  {
   "cell_type": "code",
   "execution_count": 21,
   "metadata": {},
   "outputs": [
    {
     "data": {
      "text/html": [
       "<div>\n",
       "<style scoped>\n",
       "    .dataframe tbody tr th:only-of-type {\n",
       "        vertical-align: middle;\n",
       "    }\n",
       "\n",
       "    .dataframe tbody tr th {\n",
       "        vertical-align: top;\n",
       "    }\n",
       "\n",
       "    .dataframe thead th {\n",
       "        text-align: right;\n",
       "    }\n",
       "</style>\n",
       "<table border=\"1\" class=\"dataframe\">\n",
       "  <thead>\n",
       "    <tr style=\"text-align: right;\">\n",
       "      <th></th>\n",
       "      <th>sepal_length</th>\n",
       "      <th>sepal_width</th>\n",
       "      <th>petal_length</th>\n",
       "      <th>petal_width</th>\n",
       "      <th>species</th>\n",
       "    </tr>\n",
       "  </thead>\n",
       "  <tbody>\n",
       "    <tr>\n",
       "      <th>0</th>\n",
       "      <td>5.1</td>\n",
       "      <td>3.5</td>\n",
       "      <td>1.4</td>\n",
       "      <td>0.2</td>\n",
       "      <td>setosa</td>\n",
       "    </tr>\n",
       "    <tr>\n",
       "      <th>1</th>\n",
       "      <td>4.9</td>\n",
       "      <td>3.0</td>\n",
       "      <td>1.4</td>\n",
       "      <td>0.2</td>\n",
       "      <td>setosa</td>\n",
       "    </tr>\n",
       "    <tr>\n",
       "      <th>2</th>\n",
       "      <td>4.7</td>\n",
       "      <td>3.2</td>\n",
       "      <td>1.3</td>\n",
       "      <td>0.2</td>\n",
       "      <td>setosa</td>\n",
       "    </tr>\n",
       "    <tr>\n",
       "      <th>3</th>\n",
       "      <td>4.6</td>\n",
       "      <td>3.1</td>\n",
       "      <td>1.5</td>\n",
       "      <td>0.2</td>\n",
       "      <td>setosa</td>\n",
       "    </tr>\n",
       "    <tr>\n",
       "      <th>4</th>\n",
       "      <td>5.0</td>\n",
       "      <td>3.6</td>\n",
       "      <td>1.4</td>\n",
       "      <td>0.2</td>\n",
       "      <td>setosa</td>\n",
       "    </tr>\n",
       "  </tbody>\n",
       "</table>\n",
       "</div>"
      ],
      "text/plain": [
       "   sepal_length  sepal_width  petal_length  petal_width species\n",
       "0           5.1          3.5           1.4          0.2  setosa\n",
       "1           4.9          3.0           1.4          0.2  setosa\n",
       "2           4.7          3.2           1.3          0.2  setosa\n",
       "3           4.6          3.1           1.5          0.2  setosa\n",
       "4           5.0          3.6           1.4          0.2  setosa"
      ]
     },
     "execution_count": 21,
     "metadata": {},
     "output_type": "execute_result"
    }
   ],
   "source": [
    "# s3 からデータを読み込む\n",
    "\n",
    "import boto3\n",
    "\n",
    "# s3のパスを指定\n",
    "s3_bucket_path = 's3://kikagaku-handson-10'\n",
    "\n",
    "# 使用するファイルパスを指定\n",
    "train_path = 'iris_data.csv'\n",
    "\n",
    "# 読み込み用のS3パスを結合\n",
    "train_path = f\"{s3_bucket_path}/{train_path}\"\n",
    "\n",
    "# pandasでCSVを読み込み\n",
    "df_train = pd.read_csv(train_path)\n",
    "df_train.head()"
   ]
  },
  {
   "cell_type": "markdown",
   "metadata": {},
   "source": [
    "データの詳細\n",
    "| 特徴   | 内容                                                                                                  |\n",
    "| ---- | --------------------------------------------------------------------------------------------------- |\n",
    "| データ数 | 150件                                                                                                |\n",
    "| クラス数 | 3種類（setosa, versicolor, virginica）                                                                  |\n",
    "| 特徴量  | 4つの実数値：<br>sepal length（がく片の長さ）<br>sepal width（がく片の幅）<br>petal length（花びらの長さ）<br>petal width（花びらの幅） |\n",
    "| 目的   | **3クラス分類**（線形・非線形の分類手法の比較に最適）                                                                       |\n",
    "\n"
   ]
  },
  {
   "cell_type": "markdown",
   "metadata": {},
   "source": [
    "setosa、versicolor、virginic という３種類のあやめ（Iris）のデータがあります。<br>\n",
    "これを、がく片（sepal）や花弁（petal）の長さ・幅といった情報（これを特徴量と呼びます）から分類をしたい、という機械学習モデルを作成します。"
   ]
  },
  {
   "cell_type": "code",
   "execution_count": 27,
   "metadata": {},
   "outputs": [
    {
     "name": "stdout",
     "output_type": "stream",
     "text": [
      "0.9666666666666667\n",
      "1.0\n"
     ]
    }
   ],
   "source": [
    "# 入力変数と出力変数の切り分け\n",
    "x = df_train.drop('species', axis=1)\n",
    "t = df_train['species']\n",
    "\n",
    "# 2 つに分割\n",
    "from sklearn.model_selection import train_test_split\n",
    "x_train, x_test, t_train, t_test = train_test_split(x, t, test_size=0.2, random_state=0)\n",
    "\n",
    "# モデルの定義\n",
    "from sklearn.linear_model import LogisticRegression\n",
    "model = LogisticRegression()\n",
    "\n",
    "# モデルの学習\n",
    "model.fit(x_train, t_train)\n",
    "\n",
    "# モデルの検証\n",
    "print(model.score(x_train, t_train))\n",
    "print(model.score(x_test, t_test))"
   ]
  },
  {
   "cell_type": "markdown",
   "metadata": {},
   "source": [
    "## S3への保存\n",
    "ここまでで、あやめの分類を行いました。\n",
    "ここからは、分類結果をcsv形式で保存し、そのデータを S3 へ格納する様子を見てみましょう。"
   ]
  },
  {
   "cell_type": "code",
   "execution_count": 28,
   "metadata": {},
   "outputs": [],
   "source": [
    "# 予測値を取得\n",
    "y_pred = model.predict(x_test)\n",
    "\n",
    "# t_testのインデックスを保持したままDataFrameを作成（正解ラベルと予測ラベルを並べる）\n",
    "df_result = pd.DataFrame({\n",
    "    'True Label': t_test,\n",
    "    'Predicted Label': y_pred\n",
    "})\n",
    "\n",
    "# ノートブックと同じディレクトリにファイルを保存\n",
    "df_result.to_csv('classification_result.csv', index=False)"
   ]
  },
  {
   "cell_type": "code",
   "execution_count": 29,
   "metadata": {},
   "outputs": [],
   "source": [
    "# S3 へアップロードを行う。\n",
    "\n",
    "import boto3\n",
    "\n",
    "s3 = boto3.client('s3')\n",
    "bucket_name = 'kikagaku-handson-10'\n",
    "file_name = 'classification_result.csv'\n",
    " \n",
    "s3.upload_file(file_name, bucket_name, file_name)\n",
    "\n",
    "# s3.upload_file()の引数３つについては、以下の意味を指しています。\n",
    "# 手元の \"classification_result.csv\" ファイルを、\n",
    "# S3の \"kikagaku-handson-10\" バケットに、\n",
    "# 同じ名前 \"classification_result.csv\" として保存する。"
   ]
  },
  {
   "cell_type": "code",
   "execution_count": null,
   "metadata": {},
   "outputs": [],
   "source": []
  }
 ],
 "metadata": {
  "kernelspec": {
   "display_name": "conda_pytorch_p310",
   "language": "python",
   "name": "conda_pytorch_p310"
  },
  "language_info": {
   "codemirror_mode": {
    "name": "ipython",
    "version": 3
   },
   "file_extension": ".py",
   "mimetype": "text/x-python",
   "name": "python",
   "nbconvert_exporter": "python",
   "pygments_lexer": "ipython3",
   "version": "3.10.14"
  }
 },
 "nbformat": 4,
 "nbformat_minor": 4
}
